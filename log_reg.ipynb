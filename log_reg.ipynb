{
 "cells": [
  {
   "cell_type": "markdown",
   "metadata": {},
   "source": [
    "# Logistic Regression\n",
    "In this notebook, I implement Logistic Regression (LR) and the Recursive Formulation of Logistic Regression (RFLR) as mentioned in the Beron 2023 paper.\n",
    "\n",
    "    Beron, C. C., Neufeld, S. Q., Linderman, S. W., & Sabatini, B. L. (2022). Mice exhibit stochastic and efficient action switching during probabilistic decision making. Proceedings of the National Academy of Sciences, 119(15), e2113961119. https://doi.org/10.1073/pnas.2113961119\n"
   ]
  },
  {
   "cell_type": "code",
   "execution_count": 1,
   "metadata": {},
   "outputs": [],
   "source": [
    "from src import rnn_utils\n",
    "from src import switch_utils\n",
    "from src import lr\n",
    "import os\n",
    "from matplotlib import pyplot as plt\n",
    "import numpy as np\n",
    "import pandas as pd\n",
    "import seaborn as sns\n",
    "import jax\n",
    "import jax.numpy as jnp\n",
    "import haiku as hk\n",
    "\n",
    "DatasetRNN = rnn_utils.DatasetRNN"
   ]
  },
  {
   "cell_type": "code",
   "execution_count": 2,
   "metadata": {},
   "outputs": [],
   "source": [
    "data_dir = '/Users/michaelcondon/workspaces/pbm_group2/disentangled_rnns/data/processed'\n",
    "model_dir = \"/Users/michaelcondon/workspaces/pbm_group2/disentangled_rnns/models/\"\n",
    "\n",
    "train_prop = 0.7\n",
    "cv = f'{train_prop*100:.0f}-{(1-train_prop)*100:.0f}'\n",
    "split_dt = \"2025-04-17_10-28\"\n",
    "batch_size = 64\n",
    "\n",
    "df_tr = pd.read_csv(os.path.join(data_dir, f\"train_df_{cv}_{split_dt}.csv\"))\n",
    "df_va = pd.read_csv(os.path.join(data_dir, f\"validation_df_{cv}_{split_dt}.csv\"))\n",
    "\n",
    "ds_tr = switch_utils.get_dataset(df_tr, batch_size)\n",
    "ds_va = switch_utils.get_dataset(df_va, batch_size)\n"
   ]
  },
  {
   "cell_type": "code",
   "execution_count": 3,
   "metadata": {},
   "outputs": [
    {
     "data": {
      "application/vnd.jupyter.widget-view+json": {
       "model_id": "592c85ef05b94e979176197d5bee6d1f",
       "version_major": 2,
       "version_minor": 0
      },
      "text/plain": [
       "Training Progress:   0%|          | 0/10000 [00:00<?, ?it/s]"
      ]
     },
     "metadata": {},
     "output_type": "display_data"
    }
   ],
   "source": [
    "params, opt_state, losses = lr.train_gru_network(lr.vmap_forward_fn,\n",
    "                                                ds_tr,\n",
    "                                                ds_va,\n",
    "                                                n_steps=1e4)"
   ]
  },
  {
   "cell_type": "code",
   "execution_count": 4,
   "metadata": {},
   "outputs": [],
   "source": [
    "def log_likelihood_normalised(\n",
    "      labels: np.ndarray, log_odds: np.ndarray\n",
    "  ) -> float:\n",
    "    # Mask any errors for which label is negative\n",
    "    mask = jnp.logical_not(labels < 0)\n",
    "    ps = jax.nn.log_softmax(log_odds)\n",
    "    if labels.shape[2] != 1:\n",
    "      raise ValueError(\n",
    "          'Categorical loss function requires targets to be of dimensionality'\n",
    "          ' (n_timesteps, n_episodes, 1)'\n",
    "      )\n",
    "    one_hot_labels = jax.nn.one_hot(labels[:, :, 0], num_classes=2)\n",
    "    \n",
    "    log_liks = one_hot_labels * ps\n",
    "    masked_log_liks = jnp.multiply(log_liks, mask)\n",
    "    loss = jnp.nansum(masked_log_liks)\n",
    "    return loss / np.sum(mask)"
   ]
  },
  {
   "cell_type": "code",
   "execution_count": 5,
   "metadata": {},
   "outputs": [
    {
     "data": {
      "text/plain": [
       "[<matplotlib.lines.Line2D at 0x14418f250>]"
      ]
     },
     "execution_count": 5,
     "metadata": {},
     "output_type": "execute_result"
    },
    {
     "data": {
      "image/png": "[encoded data removed]",
      "text/plain": [
       "<Figure size 640x480 with 1 Axes>"
      ]
     },
     "metadata": {},
     "output_type": "display_data"
    }
   ],
   "source": [
    "plt.semilogy(losses['training_loss'])\n",
    "plt.semilogy(losses['validation_loss'])"
   ]
  },
  {
   "cell_type": "code",
   "execution_count": 6,
   "metadata": {},
   "outputs": [
    {
     "name": "stdout",
     "output_type": "stream",
     "text": [
      "The log likelihood for logistic regression is -0.200.\n"
     ]
    }
   ],
   "source": [
    "lr_input, lr_output = lr.lr_window_fn(ds_tr._xs, ds_tr._ys)\n",
    "\n",
    "model = hk.transform(lr.vmap_forward_fn)\n",
    "\n",
    "output = model.apply(params, None, lr_input, output_dim=2)\n",
    "\n",
    "# sample from the output either greedily or with thompson sampling\n",
    "ll = log_likelihood_normalised(ds_tr._ys, output)\n",
    "print(f\"The log likelihood for logistic regression is {ll:.3f}.\")"
   ]
  },
  {
   "cell_type": "code",
   "execution_count": null,
   "metadata": {},
   "outputs": [],
   "source": [
    "\n",
    "sample_type = 'thompson'\n",
    "y_sampled = switch_utils.sampler(output, sample_type, key=69)\n",
    "print(y_sampled.shape)"
   ]
  },
  {
   "cell_type": "code",
   "execution_count": null,
   "metadata": {},
   "outputs": [],
   "source": [
    "# simulated conditional probability dictionary for each 3 letter history\n",
    "p_dict = switch_utils.switch_bars(ds_tr._xs, ds_tr._xs[:,:,0], symm=True, prob=True)\n",
    "sim_p_dict = switch_utils.switch_bars(ds_tr._xs[4:], y_sampled, symm=True, prob=True)\n",
    "\n",
    "sorted_items = sorted(p_dict.items(), key=lambda item: item[1])\n",
    "sorted_keys = [item[0] for item in sorted_items] \n",
    "sorted_labels = [item[0] for item in sorted_items]\n",
    "sorted_heights = [item[1] for item in sorted_items]\n",
    "sim_sorted_heights = [sim_p_dict[key] for key in sorted_keys]\n",
    "\n",
    "sns.set(style='ticks', font_scale=1.7, rc={'axes.labelsize':20, 'axes.titlesize':20})\n",
    "sns.set_palette('deep')\n",
    "\n",
    "\n",
    "fig, ax = plt.subplots(figsize=(14,4.2))\n",
    "\n",
    "sns.barplot(x=sorted_labels, y=sim_sorted_heights, color='g', alpha=1, ax=ax, label='DisRNN Switch Prob')\n",
    "sns.barplot(x=sorted_labels, y=sorted_heights, color='k', alpha=0.5, ax=ax, edgecolor='gray', label='Mouse Switch Prob')\n",
    "\n",
    "ax.set(xlim=(-1,len(sorted_heights)), ylim=(0,1), ylabel='P(switch)')\n",
    "plt.xticks(rotation=90)\n",
    "sns.despine()\n",
    "plt.title('Conditional Switch Probabilities')\n",
    "plt.tight_layout()\n",
    "plt.legend()\n",
    "# plt.savefig('/Users/michaelcondon/workspaces/pbm_group2/disentangled_rnns/figs/switch_probs.pdf')\n",
    "plt.show()"
   ]
  },
  {
   "cell_type": "code",
   "execution_count": null,
   "metadata": {},
   "outputs": [],
   "source": []
  }
 ],
 "metadata": {
  "kernelspec": {
   "display_name": ".venv",
   "language": "python",
   "name": "python3"
  },
  "language_info": {
   "codemirror_mode": {
    "name": "ipython",
    "version": 3
   },
   "file_extension": ".py",
   "mimetype": "text/x-python",
   "name": "python",
   "nbconvert_exporter": "python",
   "pygments_lexer": "ipython3",
   "version": "3.13.2"
  }
 },
 "nbformat": 4,
 "nbformat_minor": 2
}
