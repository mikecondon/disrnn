{
 "cells": [
  {
   "cell_type": "markdown",
   "metadata": {},
   "source": [
    "# Disentangled RNNs for Mouse Switching Dataset\n",
    "The dataset below is from [Harvard Dataverse](https://dataverse.harvard.edu/dataset.xhtml?persistentId=doi:10.7910/DVN/7E0NM5). Each row corresponds to a trial, and the columns correspond to the trial number, block position, target direction, choice direction, and reward outcome, as well as the session and mouse identifiers and task conditions.\n",
    "\n",
    "| Trial | blockTrial | Decision | Switch | Reward | Condition | Target | blockLength | Session | Mouse |\n",
    "|-------|------------|----------|--------|--------|-----------|--------|-------------|---------|-------|\n",
    "| 11.0  | 11.0       | 1.0      | 0.0    | 1.0    | 90-10     | 1.0    | 58.0        | m1_77   | m1    |\n",
    "| 12.0  | 12.0       | 1.0      | 0.0    | 1.0    | 90-10     | 1.0    | 58.0        | m1_77   | m1    |\n",
    "| 13.0  | 13.0       | 1.0      | 0.0    | 1.0    | 90-10     | 1.0    | 58.0        | m1_77   | m1    |"
   ]
  },
  {
   "cell_type": "code",
   "execution_count": 1,
   "metadata": {},
   "outputs": [],
   "source": [
    "from disentangled_rnns.library import rnn_utils\n",
    "from disentangled_rnns.library import disrnn\n",
    "from disentangled_rnns import switch_utils\n",
    "import optax\n",
    "from tqdm.auto import tqdm\n",
    "from datetime import datetime\n",
    "import os\n",
    "from matplotlib import pyplot as plt\n",
    "import numpy as np\n",
    "\n",
    "\n",
    "addr = \"/Users/michaelcondon/workspaces/pbm_group2/2ABT_behavior_models/bandit_data.csv\"\n",
    "# list of tuples containing datasets for train, val, test.\n",
    "ds_list = switch_utils.get_dataset(addr, batch_size=30, tr_prop=0.25, va_prop=0.75, te_prop=0.0)\n"
   ]
  },
  {
   "cell_type": "code",
   "execution_count": 2,
   "metadata": {},
   "outputs": [],
   "source": [
    "update_mlp_shape = (5,5,5)\n",
    "choice_mlp_shape = (2,2)\n",
    "latent_size = 5\n",
    "\n",
    "def make_network():\n",
    "  return disrnn.HkDisRNN(update_mlp_shape=update_mlp_shape,\n",
    "                        choice_mlp_shape=choice_mlp_shape,\n",
    "                        latent_size=latent_size,\n",
    "                        obs_size=2, target_size=2)\n",
    "\n",
    "learning_rate = 1e-3\n",
    "opt = optax.adam(learning_rate)"
   ]
  },
  {
   "cell_type": "code",
   "execution_count": null,
   "metadata": {},
   "outputs": [],
   "source": [
    "\"\"\"\n",
    "Iterate through the mice, and through the beta values, saving the trained\n",
    "params and loss for each in a json to disk.\n",
    "\"\"\"\n",
    "betas = [1e-3, 3e-3, 1e-2, 3e-2]\n",
    "n_steps = 8e4\n",
    "\n",
    "n_calls = len(ds_list) * len(betas)\n",
    "dt = datetime.now().strftime(\"%Y-%m-%d_%H-%M\")\n",
    "print(f\"start time: {dt}\")\n",
    "with tqdm(total=n_calls, desc='Overall Progress', position=1) as outer_bar:\n",
    "  for m_i, dataset_tr, dataset_va, dataset_te in ds_list:\n",
    "    # Train additional steps\n",
    "    for beta_j in betas:\n",
    "      outer_bar.set_postfix(mouse=f\"{m_i}\", beta=f\"{beta_j:.0e}\")\n",
    "      params, opt_state, losses = rnn_utils.train_network(\n",
    "      make_network,\n",
    "          dataset_tr,\n",
    "          dataset_va,\n",
    "          ltype_tr=\"penalized_categorical\",\n",
    "          opt = optax.adam(learning_rate),\n",
    "          penalty_scale = beta_j,\n",
    "          n_steps=n_steps,\n",
    "          do_plot = False)\n",
    "      switch_utils.model_saver(params, m_i, beta_j, dt=dt, loss=losses)\n",
    "      outer_bar.update(1)\n"
   ]
  },
  {
   "cell_type": "markdown",
   "metadata": {},
   "source": [
    "## Analysis\n",
    "From here on, you can load models from disk for each mouse as trained above."
   ]
  },
  {
   "cell_type": "code",
   "execution_count": null,
   "metadata": {},
   "outputs": [],
   "source": [
    "\n",
    "directory = \"/Users/michaelcondon/workspaces/pbm_group2/disentangled_rnns/models/\"\n",
    "\n",
    "# choose mouse, beta and run time\n",
    "mouse = \"m1\"\n",
    "beta = 0.01\n",
    "cv = 0\n",
    "dt = \"2025-04-02_22-19\"\n",
    "\n",
    "\n",
    "params_file = os.path.join(directory, f\"params_{mouse}_{beta:.0e}_0_{dt}.json\")\n",
    "loss_file = os.path.join(directory, f\"loss_{mouse}_{beta:.0e}_0_{dt}.json\")\n",
    "\n",
    "params, loss = switch_utils.model_loader(params_file=params_file, loss_file=loss_file)\n",
    "training_loss = loss['training_loss']\n",
    "validation_loss = loss['validation_loss']\n",
    "\n",
    "plt.figure()\n",
    "plt.semilogy(training_loss, color='black')\n",
    "plt.semilogy(np.linspace(0, len(training_loss), len(validation_loss)), validation_loss, color='tab:red', linestyle='dashed')\n",
    "plt.xlabel('Training Step')\n",
    "plt.ylabel('Mean Loss')\n",
    "plt.legend(('Training Set', 'Validation Set'))\n",
    "plt.title('Loss over Training')"
   ]
  },
  {
   "cell_type": "code",
   "execution_count": null,
   "metadata": {},
   "outputs": [],
   "source": [
    "# Eval mode runs the network with no noise\n",
    "def make_network_eval():\n",
    "  return disrnn.HkDisRNN(update_mlp_shape=update_mlp_shape,\n",
    "                        choice_mlp_shape=choice_mlp_shape,\n",
    "                        latent_size=latent_size,\n",
    "                        obs_size=2, target_size=2,\n",
    "                        eval_mode=True)\n",
    "\n",
    "\n",
    "disrnn.plot_bottlenecks(params, sort_latents=True)\n",
    "plt.show()\n",
    "disrnn.plot_update_rules(params, make_network_eval)\n",
    "plt.show()"
   ]
  }
 ],
 "metadata": {
  "kernelspec": {
   "display_name": ".venv",
   "language": "python",
   "name": "python3"
  },
  "language_info": {
   "codemirror_mode": {
    "name": "ipython",
    "version": 3
   },
   "file_extension": ".py",
   "mimetype": "text/x-python",
   "name": "python",
   "nbconvert_exporter": "python",
   "pygments_lexer": "ipython3",
   "version": "3.13.2"
  }
 },
 "nbformat": 4,
 "nbformat_minor": 2
}
