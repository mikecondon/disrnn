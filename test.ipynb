{
 "cells": [
  {
   "cell_type": "markdown",
   "metadata": {},
   "source": [
    "# Disentangled RNNs\n",
    "This is a test file to understand what is going on in Disentangled RNNs."
   ]
  },
  {
   "cell_type": "code",
   "execution_count": 9,
   "metadata": {},
   "outputs": [],
   "source": [
    "from disentangled_rnns.library import get_datasets\n",
    "from disentangled_rnns.library import two_armed_bandits\n",
    "from disentangled_rnns.library import rnn_utils\n",
    "from disentangled_rnns.library import disrnn\n",
    "import optax\n",
    "\n",
    "# Synthetic dataset from a q-learning agent. See other options above.\n",
    "agent = two_armed_bandits.AgentQ(alpha=0.3, beta=3)\n",
    "environment = two_armed_bandits.EnvironmentBanditsDrift(sigma=0.1)\n",
    "dataset = two_armed_bandits.create_dataset(\n",
    "    agent,\n",
    "    environment,\n",
    "    n_steps_per_session=200,\n",
    "    n_sessions=1000,\n",
    "    batch_size=1000,\n",
    "    plot=True\n",
    ")\n",
    "\n",
    "update_mlp_shape = (5,5,5)\n",
    "choice_mlp_shape = (2,2)\n",
    "latent_size = 5\n",
    "\n",
    "def make_network():\n",
    "  return disrnn.HkDisRNN(update_mlp_shape=update_mlp_shape,\n",
    "                        choice_mlp_shape=choice_mlp_shape,\n",
    "                        latent_size=latent_size,\n",
    "                        obs_size=2, target_size=2)\n",
    "\n",
    "learning_rate = 1e-3\n",
    "opt = optax.adam(learning_rate)"
   ]
  },
  {
   "cell_type": "code",
   "execution_count": null,
   "metadata": {},
   "outputs": [],
   "source": [
    "print(dir(dataset))"
   ]
  },
  {
   "cell_type": "code",
   "execution_count": null,
   "metadata": {},
   "outputs": [],
   "source": [
    "# Train one step to initialize\n",
    "params, opt_state, losses = rnn_utils.train_network(\n",
    "   make_network,\n",
    "    dataset,\n",
    "    dataset,\n",
    "    opt = optax.adam(1e-3),\n",
    "    ltype_tr=\"penalized_categorical\",\n",
    "    n_steps=0)\n",
    "\n",
    "# Train additional steps\n",
    "n_steps = 1e5\n",
    "params, opt_state, losses = rnn_utils.train_network(\n",
    "make_network,\n",
    "    dataset,\n",
    "    dataset,\n",
    "    ltype_tr=\"penalized_categorical\",\n",
    "    params=params,\n",
    "    opt_state=opt_state,\n",
    "    opt = optax.adam(1e-3),\n",
    "    penalty_scale = 1e-2,\n",
    "    n_steps=n_steps,\n",
    "    do_plot = True)"
   ]
  },
  {
   "cell_type": "code",
   "execution_count": null,
   "metadata": {},
   "outputs": [],
   "source": [
    "from matplotlib import pyplot as plt\n",
    "\n",
    "# Eval mode runs the network with no noise\n",
    "def make_network_eval():\n",
    "  return disrnn.HkDisRNN(update_mlp_shape=update_mlp_shape,\n",
    "                        choice_mlp_shape=choice_mlp_shape,\n",
    "                        latent_size=latent_size,\n",
    "                        obs_size=2, target_size=2,\n",
    "                        eval_mode=True)\n",
    "\n",
    "\n",
    "disrnn.plot_bottlenecks(params, make_network_eval)\n",
    "plt.show()\n",
    "disrnn.plot_update_rules(params, make_network_eval)\n",
    "plt.show()"
   ]
  },
  {
   "cell_type": "code",
   "execution_count": null,
   "metadata": {},
   "outputs": [],
   "source": [
    "xs, ys = next(dataset)\n",
    "_ , network_states = rnn_utils.eval_network(make_network_eval, params, xs)"
   ]
  }
 ],
 "metadata": {
  "kernelspec": {
   "display_name": ".venv",
   "language": "python",
   "name": "python3"
  },
  "language_info": {
   "codemirror_mode": {
    "name": "ipython",
    "version": 3
   },
   "file_extension": ".py",
   "mimetype": "text/x-python",
   "name": "python",
   "nbconvert_exporter": "python",
   "pygments_lexer": "ipython3",
   "version": "3.13.2"
  }
 },
 "nbformat": 4,
 "nbformat_minor": 2
}
